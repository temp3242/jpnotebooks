{
 "cells": [
  {
   "cell_type": "code",
   "execution_count": null,
   "metadata": {
    "colab": {
     "base_uri": "https://localhost:8080/",
     "height": 51
    },
    "id": "iX-Vb7644goK",
    "outputId": "30ac2ef8-0b84-4059-c7f0-f0a4ee3ffe98"
   },
   "outputs": [],
   "source": [
    "from manim import *"
   ]
  },
  {
   "cell_type": "code",
   "execution_count": null,
   "metadata": {
    "colab": {
     "base_uri": "https://localhost:8080/",
     "height": 197
    },
    "id": "l-Isc4G9BHhk",
    "outputId": "ea242c78-8df9-4c93-927f-9a6e1b075acb"
   },
   "outputs": [],
   "source": [
    "%%manim -qm -v WARNING WaveSum\n",
    "\n",
    "class WaveSum(Scene):\n",
    "  def construct(self):\n",
    "    wave = lambda f,x: (np.cos(2*f*PI*(x-1))+1)/2\n",
    "    axes = Axes(\n",
    "        x_range=[0, 2, 0.25],\n",
    "        y_range=[0, 2, 0.25],\n",
    "        x_length=12,\n",
    "        axis_config={\"color\": GREEN},\n",
    "        x_axis_config={\n",
    "        \"numbers_to_include\": np.arange(0,2.25, 0.25),\n",
    "        \"numbers_with_elongated_ticks\": np.arange(0,2.25, 0.5),\n",
    "        },\n",
    "        y_axis_config={\n",
    "        \"numbers_to_include\": np.arange(0,2.25, 0.25),\n",
    "        \"numbers_with_elongated_ticks\": np.arange(0,2.25, 0.5),\n",
    "        },\n",
    "        tips=False,\n",
    "        )\n",
    "    axes_labels = axes.get_axis_labels()\n",
    "    twohz = axes.get_graph(lambda x: wave(2,x), color=YELLOW)\n",
    "    threehz = axes.get_graph(lambda x: wave(3,x), color=PURPLE)\n",
    "    sum_graph = axes.get_graph(lambda x: wave(2,x)+wave(3,x), color=GREEN)\n",
    "\n",
    "    pure = VGroup(twohz,threehz)\n",
    "    axis = VGroup(axes,axes_labels)\n",
    "    title = Tex(\"Sum of Waves\")\n",
    "    transform_title = Tex(\"Sum of Waves\")\n",
    "\n",
    "    self.play(Write(title))\n",
    "    transform_title.to_corner(UP)\n",
    "    self.wait()\n",
    "    self.play(Transform(title,transform_title))\n",
    "    self.play(Create(axis))\n",
    "    self.wait()\n",
    "    self.play(Create(twohz), run_time=2)\n",
    "    self.wait()\n",
    "    self.play(Create(threehz), run_time=2)\n",
    "    self.wait()\n",
    "    self.play(Transform(pure, sum_graph), run_time=2)"
   ]
  },
  {
   "cell_type": "code",
   "execution_count": null,
   "metadata": {
    "colab": {
     "base_uri": "https://localhost:8080/",
     "height": 197
    },
    "id": "7AcUHznVCZHI",
    "outputId": "a363bb3c-e04f-4b4b-c4ac-2669dbde6c3b"
   },
   "outputs": [],
   "source": [
    "%%manim -qm -v WARNING NatLog\n",
    "\n",
    "class NatLog(Scene):\n",
    "  def construct(self):\n",
    "    axes = Axes(\n",
    "        x_range=[0, 10, 1],\n",
    "        y_range=[0, 10, 1],\n",
    "        x_length=12,\n",
    "        axis_config={\"color\": GREEN},\n",
    "        x_axis_config={\n",
    "        \"numbers_to_include\": np.arange(0,11, 1),\n",
    "        \"numbers_with_elongated_ticks\": np.arange(0, 11, 2),\n",
    "        },\n",
    "        y_axis_config={\n",
    "        \"numbers_to_include\": np.arange(0,11, 1),\n",
    "        \"numbers_with_elongated_ticks\": np.arange(0, 11, 2),\n",
    "        },\n",
    "        tips=False,\n",
    "        )\n",
    "    \n",
    "    \n",
    "    expo = axes.get_graph(lambda x: np.exp(x), x_range=(0, 2.3025), color=BLUE)\n",
    "    natlog = axes.get_graph(lambda x: np.log(x),x_range=(1, 10), color=YELLOW)\n",
    "    exponatlog = axes.get_graph(lambda x: np.exp(np.log(x)),x_range=(0.00001, 10), color=GREEN)\n",
    "    \n",
    "    \n",
    "    axes_labels = axes.get_axis_labels()\n",
    "    axis = VGroup(axes,axes_labels)\n",
    "\n",
    "    expo_label = axes.get_graph_label(expo, x_val=1, label=\"e^x\")\n",
    "    natlog_label = axes.get_graph_label(natlog, x_val=8,direction=UP/2, label=\"\\\\ln(x)\")\n",
    "    x_label = axes.get_graph_label(exponatlog, x_val=6, direction=DOWN, label=\"x\")\n",
    "\n",
    "    graphlabels = VGroup(expo_label, natlog_label)\n",
    "\n",
    "    group = VGroup(expo,natlog)\n",
    "\n",
    "    self.play(Create(axis))\n",
    "    self.wait()\n",
    "    self.play(Create(group), run_time=2)\n",
    "    self.play(Write(graphlabels))\n",
    "    self.wait()\n",
    "    self.play(FadeOut(graphlabels))\n",
    "    self.play(Transform(group, exponatlog), run_time=2)\n",
    "    self.play(Write(x_label))\n",
    "    self.wait()"
   ]
  },
  {
   "cell_type": "code",
   "execution_count": null,
   "metadata": {
    "id": "KqZhqKVyDbRQ"
   },
   "outputs": [],
   "source": [
    "%%manim -qm -v WARNING Vectors\n",
    "\n",
    "class Vectors(Scene):\n",
    "    def construct(self):\n",
    "        circle = Circle(radius=1)\n",
    "        point = circle.point_at_angle(45*DEGREES)\n",
    "        arrow = Arrow(np.array([0, 0, 0]), point, buff=0)\n",
    "        arrow.add_updater(lambda mobject, dt: print(circle.point_at_angle(90*dt*DEGREES)) mobject.end == circle.point_at_angle(90*dt*DEGREES))\n",
    "        \n",
    "        \n",
    "        self.add(ComplexPlane().add_coordinates())\n",
    "        self.add(circle)\n",
    "        self.add(arrow)\n",
    "        self.wait(10)"
   ]
  }
 ],
 "metadata": {
  "colab": {
   "collapsed_sections": [],
   "name": "Manim.ipynb",
   "provenance": []
  },
  "interpreter": {
   "hash": "397704579725e15f5c7cb49fe5f0341eb7531c82d19f2c29d197e8b64ab5776b"
  },
  "kernelspec": {
   "display_name": "Python 3 (ipykernel)",
   "language": "python",
   "name": "python3"
  },
  "language_info": {
   "codemirror_mode": {
    "name": "ipython",
    "version": 3
   },
   "file_extension": ".py",
   "mimetype": "text/x-python",
   "name": "python",
   "nbconvert_exporter": "python",
   "pygments_lexer": "ipython3",
   "version": "3.8.12"
  }
 },
 "nbformat": 4,
 "nbformat_minor": 2
}
